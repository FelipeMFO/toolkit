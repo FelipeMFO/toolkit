{
 "cells": [
  {
   "cell_type": "markdown",
   "metadata": {},
   "source": [
    "# Description \n"
   ]
  },
  {
   "cell_type": "markdown",
   "metadata": {},
   "source": [
    "**Author**: Felipe Matheus <br>\n",
    "**Start Date**: 16/01/2023 <br>\n",
    "**End Date**: --/2023 <br>\n",
    "\n",
    "\n",
    "***\n",
    "\n",
    "**Objective** \n",
    "\n",
    "The objective of this notebook is explore Jeff's sources spectra code\n",
    "\n",
    "\n",
    "***"
   ]
  },
  {
   "cell_type": "markdown",
   "metadata": {},
   "source": [
    "# Setup"
   ]
  },
  {
   "cell_type": "markdown",
   "metadata": {},
   "source": [
    "Modules"
   ]
  },
  {
   "cell_type": "code",
   "execution_count": 8,
   "metadata": {
    "vscode": {
     "languageId": "python"
    }
   },
   "outputs": [
    {
     "name": "stdout",
     "output_type": "stream",
     "text": [
      "The autoreload extension is already loaded. To reload it, use:\n",
      "  %reload_ext autoreload\n"
     ]
    }
   ],
   "source": [
    "import os\n",
    "import sys\n",
    "import numpy as np\n",
    "import xraylib as xrl\n",
    "import matplotlib.pyplot as plt\n",
    "\n",
    "from collections import Counter\n",
    "\n",
    "%load_ext autoreload\n",
    "%autoreload 2"
   ]
  },
  {
   "cell_type": "code",
   "execution_count": 9,
   "metadata": {
    "vscode": {
     "languageId": "python"
    }
   },
   "outputs": [],
   "source": [
    "module_path = os.path.abspath(os.path.join('..'))\n",
    "if module_path not in sys.path:\n",
    "    sys.path.append(module_path)\n",
    "\n",
    "from config.Variables import Variables\n",
    "from src.DataLoader import DataLoader\n",
    "from src.artifacts.Detector import Detector\n",
    "from src.artifacts.Shield import Shield\n",
    "from src.artifacts.Photon import Photon\n",
    "from src.simulations.SimulatedShield import SimulatedShield\n",
    "from src.processing.Processing import Processing\n",
    "\n"
   ]
  },
  {
   "cell_type": "code",
   "execution_count": 10,
   "metadata": {
    "vscode": {
     "languageId": "python"
    }
   },
   "outputs": [],
   "source": [
    "varv = Variables()\n",
    "proc = Processing()\n",
    "load_ex = DataLoader(varv.PATH_EXAMPLES)\n",
    "load_sr = DataLoader(varv.PATH_SOURCES)"
   ]
  },
  {
   "cell_type": "markdown",
   "metadata": {},
   "source": [
    "# Loading Jeff's files"
   ]
  },
  {
   "cell_type": "code",
   "execution_count": 23,
   "metadata": {
    "vscode": {
     "languageId": "python"
    }
   },
   "outputs": [],
   "source": [
    "am_ints = np.load(load_sr.folder_path + \"/Am241_int.npy\")\n",
    "am_peak = np.load(load_sr.folder_path + \"/Am241_peak.npy\")\n",
    "am_spec = np.load(load_sr.folder_path + \"/Am241_spectreraies.npy\")\n",
    "\n",
    "src_ordre = np.load(load_ex.folder_path + \"/Source_ordre.npy\")\n",
    "efic = np.load(load_ex.folder_path + \"/Efficiency.npy\")\n",
    "spec_cs = np.load(load_ex.folder_path + \"/Cs137_spectrum.npy\")\n",
    "list_cs = np.load(load_ex.folder_path + \"/Cs137_listphot.npy\")\n",
    "siml_662 = np.load(load_ex.folder_path + \"/662.0_simul.npy\")\n",
    "\n",
    "cs_ints = np.load(load_sr.folder_path + \"/Cs137_int.npy\")\n",
    "cs_peak = np.load(load_sr.folder_path + \"/Cs137_peak.npy\")"
   ]
  },
  {
   "cell_type": "markdown",
   "metadata": {},
   "source": [
    "# Comparing"
   ]
  },
  {
   "cell_type": "code",
   "execution_count": 22,
   "metadata": {
    "vscode": {
     "languageId": "python"
    }
   },
   "outputs": [
    {
     "data": {
      "text/plain": [
       "[<matplotlib.lines.Line2D at 0x281322af160>]"
      ]
     },
     "execution_count": 22,
     "metadata": {},
     "output_type": "execute_result"
    },
    {
     "data": {
      "image/png": "[encoded data removed]",
      "text/plain": [
       "<Figure size 432x288 with 1 Axes>"
      ]
     },
     "metadata": {
      "needs_background": "light"
     },
     "output_type": "display_data"
    }
   ],
   "source": [
    "plt.plot(am_spec/sum(am_spec))"
   ]
  },
  {
   "cell_type": "code",
   "execution_count": 25,
   "metadata": {
    "vscode": {
     "languageId": "python"
    }
   },
   "outputs": [
    {
     "data": {
      "text/plain": [
       "[<matplotlib.lines.Line2D at 0x2813067ba30>]"
      ]
     },
     "execution_count": 25,
     "metadata": {},
     "output_type": "execute_result"
    },
    {
     "data": {
      "image/png": "[encoded data removed]",
      "text/plain": [
       "<Figure size 432x288 with 1 Axes>"
      ]
     },
     "metadata": {
      "needs_background": "light"
     },
     "output_type": "display_data"
    }
   ],
   "source": [
    "am_spec_fm = proc.get_source_spectrum(am_peak, am_ints)\n",
    "plt.plot(am_spec_fm)"
   ]
  },
  {
   "attachments": {},
   "cell_type": "markdown",
   "metadata": {},
   "source": [
    "## Conclusion\n",
    "- Jeff's files of \" _spectreraies_ \" is exactly what I need before putthing .\n",
    "- The intensities and peaks files are of the same size per element and of size of how many peaks each element has, following LaraWeb"
   ]
  },
  {
   "cell_type": "code",
   "execution_count": null,
   "metadata": {
    "vscode": {
     "languageId": "python"
    }
   },
   "outputs": [],
   "source": []
  }
 ],
 "metadata": {
  "kernelspec": {
   "display_name": "Python 3",
   "language": "python",
   "name": "python3"
  },
  "vscode": {
   "interpreter": {
    "hash": "a20f9d7e46f0eb4e6bc4d5dec8fc831cfb84feb2727d7b1f00282f6afad77009"
   }
  }
 },
 "nbformat": 4,
 "nbformat_minor": 4
}
