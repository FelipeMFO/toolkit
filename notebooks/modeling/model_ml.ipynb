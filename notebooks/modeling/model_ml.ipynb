{
 "cells": [
  {
   "cell_type": "markdown",
   "id": "74a63ba6",
   "metadata": {},
   "source": [
    "**Author**: Felipe Matheus <br>\n",
    "**Start Date**: 16/01/2023 <br>\n",
    "**End Date**: --/01/2023 <br>\n",
    "**Related Links**: stackoverflow.com\n",
    "\n",
    "\n",
    "\n",
    "**Objective** \n",
    "\n",
    "The objective of this notebook is to model...\n",
    "\n"
   ]
  },
  {
   "cell_type": "markdown",
   "id": "edcbae18",
   "metadata": {},
   "source": [
    "# Setup"
   ]
  },
  {
   "cell_type": "markdown",
   "id": "b7b0aaa5",
   "metadata": {},
   "source": [
    "Modules dockerized NB"
   ]
  },
  {
   "cell_type": "code",
   "execution_count": null,
   "id": "db6cb4df",
   "metadata": {},
   "outputs": [],
   "source": [
    "# import os\n",
    "# import sys\n",
    "# import numpy as np\n",
    "# import matplotlib.pyplot as plt\n",
    "\n",
    "# from src.visualization.Plots import Plots\n",
    "# from src.metrics.Evaluations import Evaluations\n",
    "# from src.processing.Processing import Processing\n",
    "# from config.Variables import Variables\n",
    "# from src.DataLoader import DataLoader\n",
    "\n",
    "# %load_ext autoreload\n",
    "# %autoreload 2\n"
   ]
  },
  {
   "cell_type": "markdown",
   "id": "bd8419a2",
   "metadata": {},
   "source": [
    "Modules without dockerized NB"
   ]
  },
  {
   "cell_type": "code",
   "execution_count": null,
   "id": "722f608c",
   "metadata": {},
   "outputs": [],
   "source": [
    "import os\n",
    "import sys\n",
    "import numpy as np\n",
    "import matplotlib.pyplot as plt\n",
    "\n",
    "module_path = os.path.abspath(os.path.join('../..'))\n",
    "if module_path not in sys.path:\n",
    "    sys.path.append(module_path)\n",
    "\n",
    "from src.visualization.Plots import Plots\n",
    "from src.metrics.Evaluations import Evaluations\n",
    "from src.processing.Processing import Processing\n",
    "from config.Variables import Variables\n",
    "from src.DataLoader import DataLoader\n",
    "\n",
    "%load_ext autoreload\n",
    "%autoreload 2"
   ]
  },
  {
   "cell_type": "code",
   "execution_count": null,
   "id": "751aa04c",
   "metadata": {},
   "outputs": [],
   "source": [
    "varv = Variables()\n",
    "\n",
    "plot = Plots()\n",
    "eval = Evaluations()\n",
    "proc = Processing()\n",
    "load = DataLoader(varv.PATH_DATA_STRUCTURED)\n"
   ]
  },
  {
   "cell_type": "markdown",
   "id": "aa7c58df",
   "metadata": {},
   "source": [
    "# Loading files"
   ]
  },
  {
   "cell_type": "code",
   "execution_count": null,
   "id": "06e608b4",
   "metadata": {},
   "outputs": [
    {
     "ename": "FileNotFoundError",
     "evalue": "[Errno 2] No such file or directory: '../../data/raw//Am241_int.npy'",
     "output_type": "error",
     "traceback": [
      "\u001b[0;31m---------------------------------------------------------------------------\u001b[0m\n",
      "\u001b[0;31mFileNotFoundError\u001b[0m                         Traceback (most recent call last)\n",
      "Cell \u001b[0;32mIn[4], line 1\u001b[0m\n",
      "\u001b[0;32m----> 1\u001b[0m am_ints \u001b[39m=\u001b[39m np\u001b[39m.\u001b[39;49mload(load\u001b[39m.\u001b[39;49mfolder_path \u001b[39m+\u001b[39;49m \u001b[39m\"\u001b[39;49m\u001b[39m/Am241_int.npy\u001b[39;49m\u001b[39m\"\u001b[39;49m)\n",
      "\u001b[1;32m      2\u001b[0m am_peak \u001b[39m=\u001b[39m np\u001b[39m.\u001b[39mload(load\u001b[39m.\u001b[39mfolder_path \u001b[39m+\u001b[39m \u001b[39m\"\u001b[39m\u001b[39m/Am241_peak.npy\u001b[39m\u001b[39m\"\u001b[39m)\n",
      "\u001b[1;32m      3\u001b[0m am_spec \u001b[39m=\u001b[39m np\u001b[39m.\u001b[39mload(load\u001b[39m.\u001b[39mfolder_path \u001b[39m+\u001b[39m \u001b[39m\"\u001b[39m\u001b[39m/Am241_spectreraies.npy\u001b[39m\u001b[39m\"\u001b[39m)\n",
      "\n",
      "File \u001b[0;32m~/projects/toolkit/toolkit/.venv/lib/python3.8/site-packages/numpy/lib/npyio.py:405\u001b[0m, in \u001b[0;36mload\u001b[0;34m(file, mmap_mode, allow_pickle, fix_imports, encoding, max_header_size)\u001b[0m\n",
      "\u001b[1;32m    403\u001b[0m     own_fid \u001b[39m=\u001b[39m \u001b[39mFalse\u001b[39;00m\n",
      "\u001b[1;32m    404\u001b[0m \u001b[39melse\u001b[39;00m:\n",
      "\u001b[0;32m--> 405\u001b[0m     fid \u001b[39m=\u001b[39m stack\u001b[39m.\u001b[39menter_context(\u001b[39mopen\u001b[39;49m(os_fspath(file), \u001b[39m\"\u001b[39;49m\u001b[39mrb\u001b[39;49m\u001b[39m\"\u001b[39;49m))\n",
      "\u001b[1;32m    406\u001b[0m     own_fid \u001b[39m=\u001b[39m \u001b[39mTrue\u001b[39;00m\n",
      "\u001b[1;32m    408\u001b[0m \u001b[39m# Code to distinguish from NumPy binary files and pickles.\u001b[39;00m\n",
      "\n",
      "\u001b[0;31mFileNotFoundError\u001b[0m: [Errno 2] No such file or directory: '../../data/raw//Am241_int.npy'"
     ]
    }
   ],
   "source": [
    "am_ints = np.load(load.folder_path + \"Am241_int.npy\")\n",
    "am_peak = np.load(load.folder_path + \"Am241_peak.npy\")\n",
    "am_spec = np.load(load.folder_path + \"Am241_spectreraies.npy\")\n"
   ]
  },
  {
   "attachments": {},
   "cell_type": "markdown",
   "id": "b0b1f449-e4c9-449e-b23b-7d394041449c",
   "metadata": {},
   "source": [
    "**Author**: Felipe Matheus <br>\n",
    "**Start Date**: 05/01/2023 <br>\n",
    "**End Date**: /01/2023 <br>\n",
    "\n",
    "\n",
    "***\n",
    "\n",
    "**Objective** \n",
    "\n",
    "The objective of this notebook is to use the data processed to develop interpolation models for detector's response."
   ]
  },
  {
   "cell_type": "markdown",
   "id": "d16ab981-4a96-4204-b945-820ae99769ec",
   "metadata": {},
   "source": [
    "# Setup"
   ]
  },
  {
   "cell_type": "markdown",
   "id": "8e1174bd-5f7d-431e-8c56-084176e805f9",
   "metadata": {},
   "source": [
    "Libs"
   ]
  },
  {
   "cell_type": "code",
   "execution_count": 3,
   "id": "c591c9e4-e350-451d-bfee-958fc1bd70dd",
   "metadata": {},
   "outputs": [
    {
     "name": "stdout",
     "output_type": "stream",
     "text": [
      "The autoreload extension is already loaded. To reload it, use:\n",
      "  %reload_ext autoreload\n"
     ]
    }
   ],
   "source": [
    "import os\n",
    "import sys\n",
    "import numpy as np\n",
    "import tensorflow as tf\n",
    "\n",
    "import matplotlib.pyplot as plt\n",
    "\n",
    "%load_ext autoreload\n",
    "%autoreload 2\n"
   ]
  },
  {
   "cell_type": "markdown",
   "id": "78cfb6df-5426-4851-af21-e7f8db98f599",
   "metadata": {},
   "source": [
    "Modules"
   ]
  },
  {
   "cell_type": "code",
   "execution_count": 26,
   "id": "734ded04-1c88-4baf-a7c9-78f799f1d736",
   "metadata": {},
   "outputs": [],
   "source": [
    "module_path = os.path.abspath(os.path.join('../..'))\n",
    "if module_path not in sys.path:\n",
    "    sys.path.append(module_path)\n",
    "\n",
    "from src.processing.Processing import Processing\n",
    "from src.processing.DataDumper import DataDumper\n",
    "from src.processing.DataLoader import DataLoader\n",
    "from src.modeling.nn.NN import Interpolater\n",
    "from config.Variables import Variables\n",
    "from src.utils import verify_gpu, verify_number_gpus\n",
    "\n",
    "varv = Variables()\n",
    "load_ex = DataLoader(varv.EX_DATA_FILE_PATH)\n",
    "dump = DataDumper()\n",
    "proc = Processing()\n",
    "\n"
   ]
  },
  {
   "cell_type": "markdown",
   "id": "9f635053",
   "metadata": {},
   "source": [
    "# Loading and verifying"
   ]
  },
  {
   "cell_type": "markdown",
   "id": "b3c030eb",
   "metadata": {},
   "source": [
    "# PreProcessing data"
   ]
  }
 ],
 "metadata": {
  "kernelspec": {
   "display_name": "Python 3.8.10 64-bit",
   "language": "python",
   "name": "python3"
  },
  "language_info": {
   "codemirror_mode": {
    "name": "ipython",
    "version": 3
   },
   "file_extension": ".py",
   "mimetype": "text/x-python",
   "name": "python",
   "nbconvert_exporter": "python",
   "pygments_lexer": "ipython3",
   "version": "3.8.10"
  },
  "toc-autonumbering": true,
  "toc-showcode": false,
  "toc-showmarkdowntxt": false,
  "vscode": {
   "interpreter": {
    "hash": "916dbcbb3f70747c44a77c7bcd40155683ae19c65e1c03b4aa3499c5328201f1"
   }
  }
 },
 "nbformat": 4,
 "nbformat_minor": 5
}
