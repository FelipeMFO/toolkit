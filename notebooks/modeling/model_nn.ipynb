{
 "cells": [
  {
   "cell_type": "markdown",
   "id": "74a63ba6",
   "metadata": {},
   "source": [
    "**Author**: Felipe Matheus <br>\n",
    "**Start Date**: 16/01/2023 <br>\n",
    "**End Date**: --/01/2023 <br>\n",
    "**Related Links**: stackoverflow.com\n",
    "\n",
    "\n",
    "\n",
    "**Objective** \n",
    "\n",
    "The objective of this notebook is to model...\n",
    "\n"
   ]
  },
  {
   "cell_type": "markdown",
   "id": "edcbae18",
   "metadata": {},
   "source": [
    "# Setup"
   ]
  },
  {
   "cell_type": "markdown",
   "id": "b7b0aaa5",
   "metadata": {},
   "source": [
    "Modules dockerized NB"
   ]
  },
  {
   "cell_type": "code",
   "execution_count": null,
   "id": "db6cb4df",
   "metadata": {},
   "outputs": [],
   "source": [
    "# import os\n",
    "# import sys\n",
    "# import numpy as np\n",
    "# import matplotlib.pyplot as plt\n",
    "\n",
    "# from src.visualization.Plots import Plots\n",
    "# from src.metrics.Evaluations import Evaluations\n",
    "# from src.processing.Processing import Processing\n",
    "# from config.Variables import Variables\n",
    "# from src.DataLoader import DataLoader\n",
    "\n",
    "# %load_ext autoreload\n",
    "# %autoreload 2\n"
   ]
  },
  {
   "cell_type": "markdown",
   "id": "bd8419a2",
   "metadata": {},
   "source": [
    "Modules without dockerized NB"
   ]
  },
  {
   "cell_type": "code",
   "execution_count": null,
   "id": "722f608c",
   "metadata": {},
   "outputs": [],
   "source": [
    "import os\n",
    "import sys\n",
    "import numpy as np\n",
    "import matplotlib.pyplot as plt\n",
    "\n",
    "module_path = os.path.abspath(os.path.join('../..'))\n",
    "if module_path not in sys.path:\n",
    "    sys.path.append(module_path)\n",
    "\n",
    "from src.visualization.Plots import Plots\n",
    "from src.metrics.Evaluations import Evaluations\n",
    "from src.processing.Processing import Processing\n",
    "from config.Variables import Variables\n",
    "from src.DataLoader import DataLoader\n",
    "\n",
    "%load_ext autoreload\n",
    "%autoreload 2"
   ]
  },
  {
   "cell_type": "code",
   "execution_count": null,
   "id": "751aa04c",
   "metadata": {},
   "outputs": [],
   "source": [
    "varv = Variables()\n",
    "\n",
    "plot = Plots()\n",
    "eval = Evaluations()\n",
    "proc = Processing()\n",
    "load = DataLoader(varv.PATH_DATA_STRUCTURED)\n"
   ]
  },
  {
   "cell_type": "markdown",
   "id": "aa7c58df",
   "metadata": {},
   "source": [
    "# Loading files"
   ]
  }
 ],
 "metadata": {
  "kernelspec": {
   "display_name": "Python 3.8.10 ('.venv': venv)",
   "language": "python",
   "name": "python3"
  },
  "language_info": {
   "codemirror_mode": {
    "name": "ipython",
    "version": 3
   },
   "file_extension": ".py",
   "mimetype": "text/x-python",
   "name": "python",
   "nbconvert_exporter": "python",
   "pygments_lexer": "ipython3",
   "version": "3.8.10"
  },
  "toc-autonumbering": true,
  "toc-showcode": false,
  "toc-showmarkdowntxt": false,
  "vscode": {
   "interpreter": {
    "hash": "9ce9a58141562b51bb6c714af041b768968f098a0227ef51e18730ba7dfcb9f7"
   }
  }
 },
 "nbformat": 4,
 "nbformat_minor": 5
}
